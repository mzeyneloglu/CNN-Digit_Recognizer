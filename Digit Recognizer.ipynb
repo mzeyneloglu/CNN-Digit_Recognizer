{
 "cells": [
  {
   "cell_type": "markdown",
   "id": "a1ca90cb",
   "metadata": {},
   "source": [
    "## Digit Recognizer"
   ]
  },
  {
   "cell_type": "markdown",
   "id": "e6968e71",
   "metadata": {},
   "source": [
    "*Bu çalışmamızda 0-9 arasındaki tek basamaklı sayıları CNN yapısı ile birlikte tensorflow , keras kütüphanelerini kullanarak tanıma işlemi gerçekleştiriyor olacağız.*"
   ]
  },
  {
   "cell_type": "code",
   "execution_count": 2,
   "id": "3c6f5539",
   "metadata": {},
   "outputs": [
    {
     "data": {
      "text/plain": [
       "'2.8.0'"
      ]
     },
     "execution_count": 2,
     "metadata": {},
     "output_type": "execute_result"
    }
   ],
   "source": [
    "# Tensorflow ekleme\n",
    "import tensorflow as tf\n",
    "tf.__version__"
   ]
  },
  {
   "cell_type": "markdown",
   "id": "6eed38a1",
   "metadata": {},
   "source": [
    "### Veri setlerini yükleme"
   ]
  },
  {
   "cell_type": "markdown",
   "id": "6ecca292",
   "metadata": {},
   "source": [
    "*Veri setlerini kerasın içerisinden yüklüyor olacağız dışardan çekmeyeceğiz.*"
   ]
  },
  {
   "cell_type": "code",
   "execution_count": 3,
   "id": "c859a21e",
   "metadata": {},
   "outputs": [],
   "source": [
    "# El yazısı ile yazılmış 0-9 arasında rakamlar bulunmaktadır.[28x28 boyutlarındadır]\n",
    "mnist = tf.keras.datasets.mnist"
   ]
  },
  {
   "cell_type": "markdown",
   "id": "945b03ad",
   "metadata": {},
   "source": [
    "### Veri setini train ve test olarak bölme"
   ]
  },
  {
   "cell_type": "code",
   "execution_count": 4,
   "id": "73d01476",
   "metadata": {
    "scrolled": true
   },
   "outputs": [],
   "source": [
    "(x_train,y_train),(x_test,y_test) = mnist.load_data()"
   ]
  },
  {
   "cell_type": "markdown",
   "id": "f2272e82",
   "metadata": {},
   "source": [
    "*Keras kütüphanesi üzerinden yüklediğimiz 28x28 boyuntaki el yazısı ile yazılmışmış birbirinden farklı numara resimlerini modellemek için test ve train olarak ayırma işlemi gerçekleştirdikr.*"
   ]
  },
  {
   "cell_type": "code",
   "execution_count": 5,
   "id": "4102958a",
   "metadata": {},
   "outputs": [
    {
     "name": "stdout",
     "output_type": "stream",
     "text": [
      "(60000, 28, 28)\n",
      "(60000,)\n",
      "(10000, 28, 28)\n",
      "(10000,)\n"
     ]
    }
   ],
   "source": [
    "print(x_train.shape)\n",
    "print(y_train.shape)\n",
    "print(x_test.shape)\n",
    "print(y_test.shape)"
   ]
  },
  {
   "cell_type": "markdown",
   "id": "5aaf020f",
   "metadata": {},
   "source": [
    "### Veri setlerindeki resimleri matplotlib kütüphanesi ile gösterme\n",
    "\n",
    "*Matplotlib kütüphanesi içerisinden imshow fonksiyonu kullanıyor olacağız.*"
   ]
  },
  {
   "cell_type": "code",
   "execution_count": 6,
   "id": "e09bdf01",
   "metadata": {},
   "outputs": [],
   "source": [
    "# matplotlib\n",
    "import matplotlib.pyplot as plt\n",
    "# uyarı almamak için\n",
    "import warnings\n",
    "warnings.filterwarnings('ignore')"
   ]
  },
  {
   "cell_type": "markdown",
   "id": "76387227",
   "metadata": {},
   "source": [
    "x_train ve x_test dizileri aslında 60000 değer içerir ve her bir değer bir resimi temsil eder ve bu resimler matrix şeklinde belirtilmiştir."
   ]
  },
  {
   "cell_type": "code",
   "execution_count": 7,
   "id": "0317a573",
   "metadata": {},
   "outputs": [
    {
     "data": {
      "image/png": "[encoded data removed]",
      "text/plain": [
       "<Figure size 432x288 with 1 Axes>"
      ]
     },
     "metadata": {
      "needs_background": "light"
     },
     "output_type": "display_data"
    },
    {
     "data": {
      "image/png": "[encoded data removed]",
      "text/plain": [
       "<Figure size 432x288 with 1 Axes>"
      ]
     },
     "metadata": {
      "needs_background": "light"
     },
     "output_type": "display_data"
    }
   ],
   "source": [
    "# Bazı resimleri gösterme\n",
    "\n",
    "# dizideki 5 indexe sahip resim\n",
    "plt.imshow(x_train[5])\n",
    "plt.show()\n",
    "\n",
    "plt.imshow(x_train[5], cmap=plt.cm.binary)\n",
    "plt.show()\n",
    "# cmap=plt.cm.binary --> arka planı kaldırır ve resmi sadeleştirir"
   ]
  },
  {
   "cell_type": "code",
   "execution_count": null,
   "id": "14c17fb1",
   "metadata": {},
   "outputs": [],
   "source": [
    "print(x_train[5])"
   ]
  },
  {
   "cell_type": "markdown",
   "id": "9083c94b",
   "metadata": {},
   "source": [
    "### Resimler üzerinde normalization işlemi gerçekleştirme"
   ]
  },
  {
   "cell_type": "markdown",
   "id": "65196925",
   "metadata": {},
   "source": [
    "*Normalizasyon işlemi her bir resim üzerinde bir ölçeklendirme gibi düşünebiliriz değerlerini belli bir aralığa getirerek resimin daha uygun formata döndürür.Aslında yaptını işlem şudur* **X_train / 255** ,*255 değerine bölmemizin sebebi RGB aralığı 0-255 arasındadır.* \n",
    "\n",
    "*Normalizasyon işlemi için keras kütüphanesi kullanıyoruz.*\n",
    "\n",
    "***data_set = keras.utilis.normalize(data_set , axis = 1)***"
   ]
  },
  {
   "cell_type": "code",
   "execution_count": 8,
   "id": "ada02bbf",
   "metadata": {},
   "outputs": [],
   "source": [
    "# Normalizasyon işlemi gerçekleştirmek\n",
    "x_train = tf.keras.utils.normalize(x_train, axis = 1)\n",
    "x_test = tf.keras.utils.normalize(x_test , axis = 1)"
   ]
  },
  {
   "cell_type": "code",
   "execution_count": 9,
   "id": "4c2fa465",
   "metadata": {},
   "outputs": [
    {
     "data": {
      "image/png": "[encoded data removed]",
      "text/plain": [
       "<Figure size 432x288 with 1 Axes>"
      ]
     },
     "metadata": {
      "needs_background": "light"
     },
     "output_type": "display_data"
    }
   ],
   "source": [
    "plt.imshow(x_train[5] , cmap=plt.cm.binary)\n",
    "plt.show()"
   ]
  },
  {
   "cell_type": "markdown",
   "id": "8b7cfe3c",
   "metadata": {},
   "source": [
    "*Yukarıda görüldüğü üzere normalizasyon işleminden sonra plt.cm.binary de kullanarak gri resim şeklini aslında elde etmiş oluyoruz.*"
   ]
  },
  {
   "cell_type": "markdown",
   "id": "67c55292",
   "metadata": {},
   "source": [
    "### Evrişim işlemi için görüntüyü tekrardan boyutlandırma işlemi gerçekleştirme"
   ]
  },
  {
   "cell_type": "code",
   "execution_count": 10,
   "id": "d2d3ff47",
   "metadata": {},
   "outputs": [],
   "source": [
    "# numpy \n",
    "import numpy as np"
   ]
  },
  {
   "cell_type": "code",
   "execution_count": 11,
   "id": "7d7415b3",
   "metadata": {
    "scrolled": true
   },
   "outputs": [
    {
     "name": "stdout",
     "output_type": "stream",
     "text": [
      "(60000, 28, 28, 1)\n",
      "(10000, 28, 28, 1)\n"
     ]
    }
   ],
   "source": [
    "# filter işlemi için bir boyutun artırılması\n",
    "x_trainr = np.array(x_train).reshape(-1 , 28 , 28 ,1)\n",
    "x_testr = np.array(x_test).reshape(-1 ,28 , 28, 1)\n",
    "print(x_trainr.shape)\n",
    "print(x_testr.shape)"
   ]
  },
  {
   "cell_type": "markdown",
   "id": "0fa84b0c",
   "metadata": {},
   "source": [
    "*28x28 boyutunda derinliği 1 olan 60000 ve 10000 fotoğraf var demektir.*"
   ]
  },
  {
   "cell_type": "markdown",
   "id": "849292cb",
   "metadata": {},
   "source": [
    "### CNN modeli kurulum adımları ve evrişim işlemi , maxPooling işlemleri"
   ]
  },
  {
   "cell_type": "code",
   "execution_count": 13,
   "id": "c99eaa54",
   "metadata": {},
   "outputs": [],
   "source": [
    "# CNN nesnesini oluşturduğumuz kısımdır ve oluşturduğumuz nesne ile birlikte diğer adımları gerçekleştiriyor olacağız.\n",
    "cnn = tf.keras.models.Sequential()"
   ]
  },
  {
   "cell_type": "code",
   "execution_count": 14,
   "id": "6f3cb91e",
   "metadata": {},
   "outputs": [],
   "source": [
    "# 1.Convulation [Evirişim işlemi]\n",
    "cnn.add(tf.keras.layers.Conv2D(filters = 64 ,kernel_size= 3, activation = 'relu' , input_shape = [28, 28, 1]))\n",
    "# 1.Pooling İşlemi [Max Pooling]\n",
    "cnn.add(tf.keras.layers.MaxPool2D(pool_size=2))\n",
    "\n",
    "# 2.Convulation [Evirişim işlemi]\n",
    "cnn.add(tf.keras.layers.Conv2D(filters = 64 ,kernel_size= 3, activation = 'relu'))\n",
    "# 2.Pooling İşlemi [Max Pooling]\n",
    "cnn.add(tf.keras.layers.MaxPool2D(pool_size=2))\n",
    "\n",
    "# 3.Convulation [Evirişim işlemi]\n",
    "cnn.add(tf.keras.layers.Conv2D(filters = 64 ,kernel_size= 3, activation = 'relu'))\n",
    "# 3.Pooling İşlemi [Max Pooling]\n",
    "cnn.add(tf.keras.layers.MaxPool2D(pool_size=2))\n",
    "\n",
    "# Yapay sinir ağı oluşturmak için son adım olarak işlemlerin sonucunu tek boyutlu matrix yani vektör haline getirir.\n",
    "cnn.add(tf.keras.layers.Flatten())"
   ]
  },
  {
   "cell_type": "markdown",
   "id": "0ed329d3",
   "metadata": {},
   "source": [
    "* *Convulation işleminin ilkinde sadece input_shape parameresi girilir onun dışında girilmez*\n",
    "* *pool_size , kernel_size parametlerinde yazılan değer aslında boyut belirtir ve kaç yazılmış ise kaça kaçlık olduğunu belitiriz (2,2) ,(3,3) şeklinde.*"
   ]
  },
  {
   "cell_type": "markdown",
   "id": "b41ccb8b",
   "metadata": {},
   "source": [
    "### Yapay sinir ağı modeli oluşturma [Full Connected]"
   ]
  },
  {
   "cell_type": "code",
   "execution_count": 15,
   "id": "0ba6c037",
   "metadata": {},
   "outputs": [],
   "source": [
    "# First layer\n",
    "cnn.add(tf.keras.layers.Dense(units=64 , activation='relu'))\n",
    "\n",
    "# Second layer \n",
    "cnn.add(tf.keras.layers.Dense(units = 32, activation = 'relu'))\n",
    "\n",
    "# Output Layer\n",
    "cnn.add(tf.keras.layers.Dense(units = 10 , activation = 'softmax'))"
   ]
  },
  {
   "cell_type": "markdown",
   "id": "f5a8cdd5",
   "metadata": {},
   "source": [
    "*Her bir katman eklerken nöron sayısı düşürdük (genellikle böyle yapılır modellemerde) son output katmanı eklerden nöron sayısı olarak 10 dedik bunun sebebi 0-9 arasında çıktıya sahip olmamızdır eğer bir kedi veya köpek tanıtma işlemi gerçekleştiriyor olsaydık o zaman activation olarak sigmoid ve units olarak 1 derdik çünkü ya köpek çıkıcak ya da kedi fakay bu problemimizde çoklu bir sonuç var birden fazla sonucun arasından bize bir değer dönderecektir bu gibi problemler için ise softmax aktivasyon fonksiyonu daha iyi olacaktır.*"
   ]
  },
  {
   "cell_type": "code",
   "execution_count": 16,
   "id": "d410437d",
   "metadata": {},
   "outputs": [],
   "source": [
    "cnn.compile(optimizer='adam' , loss = 'sparse_categorical_crossentropy' , metrics = ['accuracy'])"
   ]
  },
  {
   "cell_type": "markdown",
   "id": "ff07c020",
   "metadata": {},
   "source": [
    "CNN derleme işlemi gerçekleştiriyor olacağız.Bunun için **cnn.compile()** fonksiyonunu kullanıyor olacağız.\n",
    "\n",
    "**optimizer:** optime eden fonksiyondur ve en iyilerinden biri **adam** fonksiyonudur.\n",
    "\n",
    "**loss:**: kayıp fonksiyonu şuan biz veri setimizde binary bir sonuç yani (ikili bir sonuc 0 ve 1 den oluşan) değer alacağımız için \n",
    "**sparse_categorical_crossentropy** kullanmamız uygun olacaktır fakat kategorik bir output alacak isek **category_crossentropy** kullanmamız gerecektir veya binary yani ikili sonuç alacak olursak **binary_crossentropy** kullanırız.\n",
    "\n",
    "**metrics**: eğitim sırasında görmek istediğimiz metrics türlerini bir liste içerisinde yazabilir şuan için accuracy(yani doğruluk skorunu) yazdık fakat araştırarak diğer metrics türlerinide yazabiliriz."
   ]
  },
  {
   "cell_type": "code",
   "execution_count": 17,
   "id": "586ebaa0",
   "metadata": {},
   "outputs": [
    {
     "name": "stdout",
     "output_type": "stream",
     "text": [
      "Epoch 1/5\n"
     ]
    },
    {
     "name": "stderr",
     "output_type": "stream",
     "text": [
      "2022-03-12 19:00:18.379429: W tensorflow/core/framework/cpu_allocator_impl.cc:82] Allocation of 131712000 exceeds 10% of free system memory.\n"
     ]
    },
    {
     "name": "stdout",
     "output_type": "stream",
     "text": [
      "1313/1313 [==============================] - ETA: 0s - loss: 0.3296 - accuracy: 0.8966"
     ]
    },
    {
     "name": "stderr",
     "output_type": "stream",
     "text": [
      "2022-03-12 19:00:40.061553: W tensorflow/core/framework/cpu_allocator_impl.cc:82] Allocation of 56448000 exceeds 10% of free system memory.\n"
     ]
    },
    {
     "name": "stdout",
     "output_type": "stream",
     "text": [
      "1313/1313 [==============================] - 24s 18ms/step - loss: 0.3296 - accuracy: 0.8966 - val_loss: 0.1257 - val_accuracy: 0.9621\n",
      "Epoch 2/5\n",
      "1313/1313 [==============================] - 23s 18ms/step - loss: 0.1005 - accuracy: 0.9697 - val_loss: 0.1023 - val_accuracy: 0.9684\n",
      "Epoch 3/5\n",
      "1313/1313 [==============================] - 23s 18ms/step - loss: 0.0728 - accuracy: 0.9775 - val_loss: 0.0777 - val_accuracy: 0.9779\n",
      "Epoch 4/5\n",
      "1313/1313 [==============================] - 23s 18ms/step - loss: 0.0563 - accuracy: 0.9821 - val_loss: 0.0742 - val_accuracy: 0.9782\n",
      "Epoch 5/5\n",
      "1313/1313 [==============================] - 23s 18ms/step - loss: 0.0450 - accuracy: 0.9855 - val_loss: 0.0707 - val_accuracy: 0.9798\n"
     ]
    },
    {
     "data": {
      "text/plain": [
       "<keras.callbacks.History at 0x7f282fd55df0>"
      ]
     },
     "execution_count": 17,
     "metadata": {},
     "output_type": "execute_result"
    }
   ],
   "source": [
    "cnn.fit(x_trainr , y_train ,epochs=5 , validation_split=0.3)"
   ]
  },
  {
   "cell_type": "markdown",
   "id": "a2fb73c7",
   "metadata": {},
   "source": [
    "* ***Bulduğumuz accuracy score ve val_accuracy değerlerini birbirlerini yakın olmamılar eğer accuracy > val_accuracy ise ve aralarında oldukça fark var ise overfitting dediğimiz olay gerçekleşir.***\n",
    "* *accuracy değeri oldukça iyi bir sonuç geldi bu modelimizi kayıt edebiliriz.*"
   ]
  },
  {
   "cell_type": "markdown",
   "id": "1d2def1b",
   "metadata": {},
   "source": [
    "### Model tahmin işlemleri ve modele genel bir bakış"
   ]
  },
  {
   "cell_type": "code",
   "execution_count": 18,
   "id": "6e7eeef6",
   "metadata": {},
   "outputs": [],
   "source": [
    "# Modelimiz tahmin sonuçlarını bir değişkene aktarıyoruz\n",
    "predictions = cnn.predict(x_testr)"
   ]
  },
  {
   "cell_type": "code",
   "execution_count": 19,
   "id": "2db0f22c",
   "metadata": {},
   "outputs": [
    {
     "data": {
      "text/plain": [
       "array([[2.9273016e-07, 3.0731492e-06, 1.5712001e-06, ..., 9.9999273e-01,\n",
       "        1.5690505e-07, 1.5528668e-06],\n",
       "       [6.6001498e-04, 2.3415847e-05, 9.9930251e-01, ..., 1.2693151e-05,\n",
       "        1.1113889e-07, 1.3540722e-07],\n",
       "       [1.5439817e-06, 9.9996901e-01, 1.5896725e-06, ..., 2.9417779e-06,\n",
       "        5.9948484e-06, 5.8954635e-07],\n",
       "       ...,\n",
       "       [1.1536351e-11, 7.9305545e-07, 1.2247067e-08, ..., 1.0348202e-07,\n",
       "        8.2852836e-08, 8.0380073e-07],\n",
       "       [7.7020240e-06, 5.7728442e-07, 1.3829948e-06, ..., 1.7499958e-06,\n",
       "        1.4779552e-04, 3.2658001e-05],\n",
       "       [6.3137559e-05, 3.1593139e-08, 2.7056842e-05, ..., 6.3990750e-09,\n",
       "        2.7555529e-06, 3.3362977e-07]], dtype=float32)"
      ]
     },
     "execution_count": 19,
     "metadata": {},
     "output_type": "execute_result"
    }
   ],
   "source": [
    "predictions"
   ]
  },
  {
   "cell_type": "markdown",
   "id": "509ee7cd",
   "metadata": {},
   "source": [
    "*Bu değerler sırasıyla aslında tahmin sonuçlarıdır bunları label değişkeni ile kıyaslamamız gerekmektedir mesala y_test[0] değeri predictions[0] değerini eşit mi diye bakarak tahmin edebiliriz fakat predictions üzerinde bir işlem yaparak bu eşitliği sorgulayabiliriz.*\n",
    "* ***np.argmax(predictions[0]) =? y_test[0]***\n",
    "* *numpy kütüphanesi kullanarak label değerini sorgulayabiliriz.*"
   ]
  },
  {
   "cell_type": "code",
   "execution_count": 21,
   "id": "632f605f",
   "metadata": {},
   "outputs": [
    {
     "name": "stdout",
     "output_type": "stream",
     "text": [
      "7\n",
      "7\n"
     ]
    }
   ],
   "source": [
    "# tahmin etme\n",
    "print(y_test[0])\n",
    "print(np.argmax(predictions[0]))"
   ]
  },
  {
   "cell_type": "markdown",
   "id": "0f1d6192",
   "metadata": {},
   "source": [
    "*Gördüğümüz üzere tahmin etme işlemini başarılı bir şekilde gerçekleştirmiş olduk.*"
   ]
  },
  {
   "cell_type": "code",
   "execution_count": 28,
   "id": "ef0be31c",
   "metadata": {
    "scrolled": true
   },
   "outputs": [
    {
     "name": "stdout",
     "output_type": "stream",
     "text": [
      "8\n",
      "8\n"
     ]
    }
   ],
   "source": [
    "# tahmin etme 2\n",
    "print(y_test[128])\n",
    "print(np.argmax(predictions[128]))"
   ]
  },
  {
   "cell_type": "code",
   "execution_count": 29,
   "id": "053c3356",
   "metadata": {
    "scrolled": false
   },
   "outputs": [
    {
     "name": "stdout",
     "output_type": "stream",
     "text": [
      "Model: \"sequential_1\"\n",
      "_________________________________________________________________\n",
      " Layer (type)                Output Shape              Param #   \n",
      "=================================================================\n",
      " conv2d (Conv2D)             (None, 26, 26, 64)        640       \n",
      "                                                                 \n",
      " max_pooling2d (MaxPooling2D  (None, 13, 13, 64)       0         \n",
      " )                                                               \n",
      "                                                                 \n",
      " conv2d_1 (Conv2D)           (None, 11, 11, 64)        36928     \n",
      "                                                                 \n",
      " max_pooling2d_1 (MaxPooling  (None, 5, 5, 64)         0         \n",
      " 2D)                                                             \n",
      "                                                                 \n",
      " conv2d_2 (Conv2D)           (None, 3, 3, 64)          36928     \n",
      "                                                                 \n",
      " max_pooling2d_2 (MaxPooling  (None, 1, 1, 64)         0         \n",
      " 2D)                                                             \n",
      "                                                                 \n",
      " flatten (Flatten)           (None, 64)                0         \n",
      "                                                                 \n",
      " dense (Dense)               (None, 64)                4160      \n",
      "                                                                 \n",
      " dense_1 (Dense)             (None, 32)                2080      \n",
      "                                                                 \n",
      " dense_2 (Dense)             (None, 10)                330       \n",
      "                                                                 \n",
      "=================================================================\n",
      "Total params: 81,066\n",
      "Trainable params: 81,066\n",
      "Non-trainable params: 0\n",
      "_________________________________________________________________\n"
     ]
    }
   ],
   "source": [
    "# modele genel bir bakış\n",
    "cnn.summary()"
   ]
  },
  {
   "cell_type": "markdown",
   "id": "7cb99263",
   "metadata": {},
   "source": [
    "---"
   ]
  }
 ],
 "metadata": {
  "kernelspec": {
   "display_name": "Python 3 (ipykernel)",
   "language": "python",
   "name": "python3"
  },
  "language_info": {
   "codemirror_mode": {
    "name": "ipython",
    "version": 3
   },
   "file_extension": ".py",
   "mimetype": "text/x-python",
   "name": "python",
   "nbconvert_exporter": "python",
   "pygments_lexer": "ipython3",
   "version": "3.8.10"
  }
 },
 "nbformat": 4,
 "nbformat_minor": 5
}
